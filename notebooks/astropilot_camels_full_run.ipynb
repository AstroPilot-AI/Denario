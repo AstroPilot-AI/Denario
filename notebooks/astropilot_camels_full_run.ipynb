{
 "cells": [
  {
   "cell_type": "markdown",
   "id": "977f68cb-d4b0-4251-ae4f-d5f80ec89f9c",
   "metadata": {},
   "source": [
    "# Initalize"
   ]
  },
  {
   "cell_type": "code",
   "execution_count": null,
   "id": "7ddff9c2-1801-43ca-90ee-f7e220b77fb3",
   "metadata": {},
   "outputs": [],
   "source": [
    "import os\n",
    "import nest_asyncio\n",
    "nest_asyncio.apply()\n",
    "os.environ[\"ASTROPILOT_DISABLE_DISPLAY\"] = \"false\"\n",
    "from astropilot import AstroPilot"
   ]
  },
  {
   "cell_type": "markdown",
   "id": "71f2c2f0-e37c-42b5-93e1-35969c3cdacf",
   "metadata": {},
   "source": [
    "Instantiate:"
   ]
  },
  {
   "cell_type": "code",
   "execution_count": null,
   "id": "00215356-44a0-4c36-824f-b221ca52f7f2",
   "metadata": {},
   "outputs": [],
   "source": [
    "astro_pilot = AstroPilot()"
   ]
  },
  {
   "cell_type": "markdown",
   "id": "daa9838f-8d78-4167-a26f-fd5dbc53f81d",
   "metadata": {},
   "source": [
    "## Set data description"
   ]
  },
  {
   "cell_type": "code",
   "execution_count": null,
   "id": "fe1a445c-6e18-4c81-8d06-e8f055f24677",
   "metadata": {},
   "outputs": [],
   "source": [
    "astro_pilot.set_data_description(data_description = \"/Users/boris/CMBAgents/AstroPilot/input_files/data_description_camels.md\")\n"
   ]
  },
  {
   "cell_type": "code",
   "execution_count": null,
   "id": "30ce9824-3591-493c-af37-e1acb68f0129",
   "metadata": {
    "scrolled": true
   },
   "outputs": [],
   "source": [
    "astro_pilot.show_data_description()"
   ]
  },
  {
   "cell_type": "markdown",
   "id": "882c6e68-771c-4c4b-871b-12d729a97b38",
   "metadata": {},
   "source": [
    "# Get Idea"
   ]
  },
  {
   "cell_type": "code",
   "execution_count": null,
   "id": "49257cfe-3b85-47cd-960b-236478a69995",
   "metadata": {
    "scrolled": true
   },
   "outputs": [],
   "source": [
    "astro_pilot.get_idea()"
   ]
  },
  {
   "cell_type": "code",
   "execution_count": null,
   "id": "59f36e4b-0fcb-44fa-acaf-ef8efd244739",
   "metadata": {
    "scrolled": true
   },
   "outputs": [],
   "source": [
    "astro_pilot.show_idea()"
   ]
  },
  {
   "cell_type": "markdown",
   "id": "b8ef6583-b2d2-4fc0-ab18-bceaa25fe6bc",
   "metadata": {},
   "source": [
    "# Get method"
   ]
  },
  {
   "cell_type": "code",
   "execution_count": null,
   "id": "2c581eb8-67e1-4813-a194-3a8765175b88",
   "metadata": {
    "scrolled": true
   },
   "outputs": [],
   "source": [
    "astro_pilot.get_method()"
   ]
  },
  {
   "cell_type": "markdown",
   "id": "1f344e2f-ae8a-48f5-8422-05fc5adbdbd8",
   "metadata": {},
   "source": [
    "# Get results"
   ]
  },
  {
   "cell_type": "code",
   "execution_count": null,
   "id": "3214be7a-2835-4beb-ba7c-c15bee07e5f1",
   "metadata": {
    "scrolled": true
   },
   "outputs": [],
   "source": [
    "astro_pilot.get_results(involved_agents = [\"engineer\",\"researcher\"])"
   ]
  },
  {
   "cell_type": "markdown",
   "id": "aa42c826-5ed0-42e1-89c3-f60fcd07fdf4",
   "metadata": {},
   "source": [
    "# Get Paper"
   ]
  },
  {
   "cell_type": "code",
   "execution_count": null,
   "id": "ee554264-714a-4adf-afab-e3bfe24c1772",
   "metadata": {},
   "outputs": [],
   "source": [
    "astro_pilot.get_paper()"
   ]
  },
  {
   "cell_type": "code",
   "execution_count": null,
   "id": "a2490ac4-2f38-4cf2-9335-c5d2d78a38ac",
   "metadata": {},
   "outputs": [],
   "source": []
  }
 ],
 "metadata": {
  "kernelspec": {
   "display_name": "Python (venv_class_sz)",
   "language": "python",
   "name": "venv_class_sz312"
  },
  "language_info": {
   "codemirror_mode": {
    "name": "ipython",
    "version": 3
   },
   "file_extension": ".py",
   "mimetype": "text/x-python",
   "name": "python",
   "nbconvert_exporter": "python",
   "pygments_lexer": "ipython3",
   "version": "3.12.9"
  }
 },
 "nbformat": 4,
 "nbformat_minor": 5
}
