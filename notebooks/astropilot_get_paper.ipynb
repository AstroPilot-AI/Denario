{
 "cells": [
  {
   "cell_type": "markdown",
   "id": "977f68cb-d4b0-4251-ae4f-d5f80ec89f9c",
   "metadata": {},
   "source": [
    "# Initalize"
   ]
  },
  {
   "cell_type": "code",
   "execution_count": null,
   "id": "7ddff9c2-1801-43ca-90ee-f7e220b77fb3",
   "metadata": {},
   "outputs": [],
   "source": [
    "import os\n",
    "import nest_asyncio\n",
    "nest_asyncio.apply()\n",
    "os.environ[\"ASTROPILOT_DISABLE_DISPLAY\"] = \"false\"\n",
    "from astropilot import AstroPilot"
   ]
  },
  {
   "cell_type": "markdown",
   "id": "71f2c2f0-e37c-42b5-93e1-35969c3cdacf",
   "metadata": {},
   "source": [
    "Instantiate:"
   ]
  },
  {
   "cell_type": "code",
   "execution_count": null,
   "id": "00215356-44a0-4c36-824f-b221ca52f7f2",
   "metadata": {},
   "outputs": [],
   "source": [
    "astro_pilot = AstroPilot()"
   ]
  },
  {
   "cell_type": "markdown",
   "id": "bd54f084-c6ba-421a-8947-e6efc119574b",
   "metadata": {},
   "source": [
    "makes paper from the files in `input_files` (whatever these are)"
   ]
  },
  {
   "cell_type": "code",
   "execution_count": null,
   "id": "ee554264-714a-4adf-afab-e3bfe24c1772",
   "metadata": {},
   "outputs": [],
   "source": [
    "astro_pilot.get_paper()"
   ]
  }
 ],
 "metadata": {
  "kernelspec": {
   "display_name": "Python (venv_class_sz)",
   "language": "python",
   "name": "venv_class_sz312"
  },
  "language_info": {
   "codemirror_mode": {
    "name": "ipython",
    "version": 3
   },
   "file_extension": ".py",
   "mimetype": "text/x-python",
   "name": "python",
   "nbconvert_exporter": "python",
   "pygments_lexer": "ipython3",
   "version": "3.12.9"
  }
 },
 "nbformat": 4,
 "nbformat_minor": 5
}
