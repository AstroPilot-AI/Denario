{
 "cells": [
  {
   "cell_type": "markdown",
   "id": "977f68cb-d4b0-4251-ae4f-d5f80ec89f9c",
   "metadata": {},
   "source": [
    "# Initalize"
   ]
  },
  {
   "cell_type": "code",
   "execution_count": 1,
   "id": "7ddff9c2-1801-43ca-90ee-f7e220b77fb3",
   "metadata": {},
   "outputs": [],
   "source": [
    "from astropilot import AstroPilot"
   ]
  },
  {
   "cell_type": "markdown",
   "id": "882c6e68-771c-4c4b-871b-12d729a97b38",
   "metadata": {},
   "source": [
    "# Write Paper"
   ]
  },
  {
   "cell_type": "markdown",
   "id": "61a297f8-f9d3-4577-b58c-3222630f942b",
   "metadata": {},
   "source": [
    "Instantiate:"
   ]
  },
  {
   "cell_type": "code",
   "execution_count": 2,
   "id": "02b83b9c-b5c7-4932-880a-0aa9951f342e",
   "metadata": {},
   "outputs": [],
   "source": [
    "astro_pilot = AstroPilot()"
   ]
  },
  {
   "cell_type": "markdown",
   "id": "68e4e974-52a3-42d4-bd30-d0cdd83d136c",
   "metadata": {},
   "source": [
    "Write paper:"
   ]
  },
  {
   "cell_type": "code",
   "execution_count": 3,
   "id": "49257cfe-3b85-47cd-960b-236478a69995",
   "metadata": {},
   "outputs": [
    {
     "name": "stdout",
     "output_type": "stream",
     "text": [
      "Selected keywords: Star formation, Galaxy evolution, Cosmological parameters, Non-Gaussianity, Initial conditions of the universe, Photometry\n",
      "Abstract written...\n",
      "Introduction written...\n",
      "Methods written...\n",
      "Results written...\n",
      "Conclusions written...\n"
     ]
    },
    {
     "name": "stderr",
     "output_type": "stream",
     "text": [
      "Processing figures: 100%|███████████████████████████████████████████████████████████████████████████████████████████████████████████████████| 10/10 [00:19<00:00,  1.94s/it]\n"
     ]
    },
    {
     "name": "stdout",
     "output_type": "stream",
     "text": [
      "Plots added...\n",
      "Results refined...\n",
      "LaTeX compiled successfully: iteration 1\n",
      "LaTeX compiled successfully: iteration 2\n",
      "[astropilot.paper] Paper generation workflow complete.\n"
     ]
    }
   ],
   "source": [
    "astro_pilot.paper()"
   ]
  }
 ],
 "metadata": {
  "kernelspec": {
   "display_name": "Python (venv_class_sz)",
   "language": "python",
   "name": "venv_class_sz312"
  },
  "language_info": {
   "codemirror_mode": {
    "name": "ipython",
    "version": 3
   },
   "file_extension": ".py",
   "mimetype": "text/x-python",
   "name": "python",
   "nbconvert_exporter": "python",
   "pygments_lexer": "ipython3",
   "version": "3.12.9"
  }
 },
 "nbformat": 4,
 "nbformat_minor": 5
}
